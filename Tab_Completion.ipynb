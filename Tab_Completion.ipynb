{
 "metadata": {
  "name": "",
  "signature": "sha256:b098f601559bfd47125adeea347c39b1dadb1c31db284b4dcab99e92f8de8ce6"
 },
 "nbformat": 3,
 "nbformat_minor": 0,
 "worksheets": [
  {
   "cells": [
    {
     "cell_type": "heading",
     "level": 1,
     "metadata": {},
     "source": [
      "Hey, where is ipython's famous tab completion?"
     ]
    },
    {
     "cell_type": "markdown",
     "metadata": {},
     "source": [
      "You need to install the <code>pyreadline</code> package in order to add tab completion to ipython notebooks.\n",
      "\n",
      "Generic/Debian/Ubuntu:\n",
      "* pip install pyreadline\n",
      "* YPMMV"
     ]
    },
    {
     "cell_type": "markdown",
     "metadata": {},
     "source": [
      "After installing, restart the notebook.\n",
      "* Go to the <strong>Kernel</strong> menu\n",
      "* Select <strong>Restart</strong>"
     ]
    },
    {
     "cell_type": "markdown",
     "metadata": {},
     "source": [
      "Unfortunately, you do have to have a clue of what you're looking for. If you try <code>Tab</code> immediately afer a package name and dot, it will not give you a selection list without some initial characters (at least one)."
     ]
    },
    {
     "cell_type": "code",
     "collapsed": false,
     "input": [
      "import sys\n",
      "sys.getrecursionlimit()\n",
      "sys.path"
     ],
     "language": "python",
     "metadata": {},
     "outputs": [
      {
       "metadata": {},
       "output_type": "pyout",
       "prompt_number": 1,
       "text": [
        "['',\n",
        " '/usr/lib/python35.zip',\n",
        " '/usr/lib/python3.5',\n",
        " '/usr/lib/python3.5/plat-x86_64-linux-gnu',\n",
        " '/usr/lib/python3.5/lib-dynload',\n",
        " '/usr/local/lib/python3.5/dist-packages',\n",
        " '/usr/lib/python3/dist-packages',\n",
        " '/usr/lib/python3/dist-packages/IPython/extensions']"
       ]
      }
     ],
     "prompt_number": 1
    },
    {
     "cell_type": "code",
     "collapsed": false,
     "input": [
      "%%system\n",
      "file  '/usr/local/lib/python3.5/dist-packages'"
     ],
     "language": "python",
     "metadata": {},
     "outputs": [
      {
       "metadata": {},
       "output_type": "pyout",
       "prompt_number": 3,
       "text": [
        "['/usr/local/lib/python3.5/dist-packages: setgid, directory']"
       ]
      }
     ],
     "prompt_number": 3
    }
   ],
   "metadata": {}
  }
 ]
}