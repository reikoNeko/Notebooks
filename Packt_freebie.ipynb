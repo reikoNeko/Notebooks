{
 "metadata": {
  "name": "",
  "signature": "sha256:4713c7e8d3152de4b74d8a05355c7ca96d54ea6ef55ca94348ab8abe99fc7744"
 },
 "nbformat": 3,
 "nbformat_minor": 0,
 "worksheets": [
  {
   "cells": [
    {
     "cell_type": "markdown",
     "metadata": {},
     "source": [
      "# Let's go shopping for freebage.\n",
      "\n",
      "Packt Publishing has a free ebook available for download every day. Let's see what today's freebie is."
     ]
    },
    {
     "cell_type": "code",
     "collapsed": false,
     "input": [
      "from bs4 import BeautifulSoup as bs\n",
      "import requests\n",
      "\n",
      "url = \"https://www.packtpub.com/packt/offers/free-learning\"\n",
      "page = requests.get(url)\n",
      "packt = bs(page.content,'html.parser')\n",
      "title = packt.find(\"div\", {\"class\": \"dotd-title\"}).h2.string.strip()\n",
      "freebie = '<a href = \\\"'+url+'\">'+title+'</a>'"
     ],
     "language": "python",
     "metadata": {},
     "outputs": [],
     "prompt_number": 2
    },
    {
     "cell_type": "markdown",
     "metadata": {},
     "source": [
      "## Here's a handy string you could send to a chatbot\n"
     ]
    },
    {
     "cell_type": "code",
     "collapsed": false,
     "input": [
      "print(freebie)"
     ],
     "language": "python",
     "metadata": {},
     "outputs": [
      {
       "output_type": "stream",
       "stream": "stdout",
       "text": [
        "<a href = \"https://www.packtpub.com/packt/offers/free-learning\">AngularJS Directives</a>\n"
       ]
      }
     ],
     "prompt_number": 3
    },
    {
     "cell_type": "markdown",
     "metadata": {},
     "source": [
      "## Or just keep the up-to-date link in your notebook"
     ]
    },
    {
     "cell_type": "code",
     "collapsed": false,
     "input": [
      "from IPython.display import display, HTML\n",
      "display(HTML(freebie))"
     ],
     "language": "python",
     "metadata": {},
     "outputs": [
      {
       "html": [
        "<a href = \"https://www.packtpub.com/packt/offers/free-learning\">AngularJS Directives</a>"
       ],
       "metadata": {},
       "output_type": "display_data",
       "text": [
        "<IPython.core.display.HTML at 0x7f9f804971d0>"
       ]
      }
     ],
     "prompt_number": 4
    },
    {
     "cell_type": "markdown",
     "metadata": {},
     "source": [
      "Consuuuuuume, for free! (As in beer, for the cost of the same privacy you give up for almost any ebook, but also without DRM.)"
     ]
    }
   ],
   "metadata": {}
  }
 ]
}