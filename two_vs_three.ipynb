{
 "metadata": {
  "name": "",
  "signature": "sha256:7c453605bdd0f9bd4f6d64ede7bb7a94a38fa264dc01d9d960f6fa5a28a4acb1"
 },
 "nbformat": 3,
 "nbformat_minor": 0,
 "worksheets": [
  {
   "cells": [
    {
     "cell_type": "heading",
     "level": 2,
     "metadata": {},
     "source": [
      "Using Python2 vs Python3 as a notebook backend"
     ]
    },
    {
     "cell_type": "markdown",
     "metadata": {},
     "source": [
      "If you have more than one python on your machine, you can run ipython notebook with either one. Use the <code>--port nnnn</code> command line option in order to run two different interpreters side by side. The default port is 8888, but I like to do\n",
      "- ipython notebook --port 8882\n",
      "- ipython3 notebook --port 8883\n",
      "and put aliases for each in my .bash_profile\n",
      "\n",
      "This will affect the default langage for new cells, but you can change the version being used with the <code>%%python2</code> or <code>%%python3</code> cell magics.\n",
      "\n",
      "[//]: # (Jupyter will show the default runnning kernel in the upper right.)"
     ]
    },
    {
     "cell_type": "code",
     "collapsed": false,
     "input": [
      "import sys\n",
      "sys.version_info"
     ],
     "language": "python",
     "metadata": {},
     "outputs": [
      {
       "metadata": {},
       "output_type": "pyout",
       "prompt_number": 1,
       "text": [
        "sys.version_info(major=3, minor=5, micro=1, releaselevel='final', serial=0)"
       ]
      }
     ],
     "prompt_number": 1
    },
    {
     "cell_type": "code",
     "collapsed": false,
     "input": [
      "print 7"
     ],
     "language": "python",
     "metadata": {},
     "outputs": [
      {
       "ename": "SyntaxError",
       "evalue": "Missing parentheses in call to 'print' (<ipython-input-2-052a96d642e5>, line 1)",
       "output_type": "pyerr",
       "traceback": [
        "\u001b[0;36m  File \u001b[0;32m\"<ipython-input-2-052a96d642e5>\"\u001b[0;36m, line \u001b[0;32m1\u001b[0m\n\u001b[0;31m    print 7\u001b[0m\n\u001b[0m          ^\u001b[0m\n\u001b[0;31mSyntaxError\u001b[0m\u001b[0;31m:\u001b[0m Missing parentheses in call to 'print'\n"
       ]
      }
     ],
     "prompt_number": 2
    },
    {
     "cell_type": "code",
     "collapsed": false,
     "input": [
      "%%python2\n",
      "print 7"
     ],
     "language": "python",
     "metadata": {},
     "outputs": [
      {
       "output_type": "stream",
       "stream": "stdout",
       "text": [
        "7\n"
       ]
      }
     ],
     "prompt_number": 3
    },
    {
     "cell_type": "code",
     "collapsed": false,
     "input": [
      "%%python3\n",
      "print(7)"
     ],
     "language": "python",
     "metadata": {},
     "outputs": [
      {
       "output_type": "stream",
       "stream": "stdout",
       "text": [
        "7\n"
       ]
      }
     ],
     "prompt_number": 4
    },
    {
     "cell_type": "code",
     "collapsed": false,
     "input": [
      "%%bash\n",
      "grep notebook /home/rachel/.bash_aliases "
     ],
     "language": "python",
     "metadata": {},
     "outputs": [
      {
       "output_type": "stream",
       "stream": "stdout",
       "text": [
        "alias nb2='cd ~/Coding && /usr/bin/ipython2 notebook --port 8882 2>/dev/null &'\n",
        "alias nb3='cd ~/Coding && /usr/bin/ipython3 notebook --port 8883 2>/dev/null &'\n"
       ]
      }
     ],
     "prompt_number": 5
    },
    {
     "cell_type": "markdown",
     "metadata": {},
     "source": [
      "##Waitwut?\n",
      "###Oh yeah, you can [call bash](Magic.ipynb)."
     ]
    }
   ],
   "metadata": {}
  }
 ]
}