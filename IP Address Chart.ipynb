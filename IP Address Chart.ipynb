{
 "cells": [
  {
   "cell_type": "markdown",
   "metadata": {},
   "source": [
    "# Let's make an xkcd graph\n",
    "\n",
    "One of the Notebook's gret uses is for scientific computing. One of the great lessons of xkcd is that you can attempt science with anything. So let's correlate some useless data!\n",
    "\n",
    "We start by using the __%pylab__ magic function, which imports numpy, matplotlib, and the nortebook display libraries so we can display graphs in our notebook."
   ]
  },
  {
   "cell_type": "code",
   "execution_count": null,
   "metadata": {
    "collapsed": false
   },
   "outputs": [],
   "source": [
    "%pylab inline\n",
    "%pylab?"
   ]
  },
  {
   "cell_type": "code",
   "execution_count": null,
   "metadata": {
    "collapsed": false
   },
   "outputs": [],
   "source": [
    "%%bash\n",
    "cd ~/Downloads\n",
    "[ -f bofh-excuses ] || wget -O bofh-excuses http://pages.cs.wisc.edu/~ballard/bofh/excuses"
   ]
  },
  {
   "cell_type": "code",
   "execution_count": null,
   "metadata": {
    "collapsed": false
   },
   "outputs": [],
   "source": [
    "with open('/home/rachel/Downloads/bofh-excuses') as F:\n",
    "    excuses = [ line for line in F if 16 < len(line)  < 40 ]\n",
    "len(excuses)"
   ]
  },
  {
   "cell_type": "code",
   "execution_count": null,
   "metadata": {
    "collapsed": false
   },
   "outputs": [],
   "source": [
    "# IP addresses are great data.\n",
    "import netifaces as ni\n",
    "# See which interface our live IPv4 address is on \n",
    "for I in ni.interfaces():\n",
    "    print(I, ni.ifaddresses(I))"
   ]
  },
  {
   "cell_type": "code",
   "execution_count": null,
   "metadata": {
    "collapsed": false
   },
   "outputs": [],
   "source": [
    "ipaddr = ni.ifaddresses('wlan0')[2][0]['addr'].split('.')\n",
    "from random import choice\n",
    "values = [ int(x) for x in ipaddr ]\n",
    "labels = [ choice(excuses).strip() for x in values ]"
   ]
  },
  {
   "cell_type": "code",
   "execution_count": null,
   "metadata": {
    "collapsed": false
   },
   "outputs": [],
   "source": [
    "# %pylab creates a pyplot library shortcut for us named plt.\n",
    "# and pyplot includes a graphing style that looks like xkcd!\n",
    "#plt.xkcd()\n",
    "plt.title(\"Why you can't ssh out at USP\",{'fontsize':36})\n",
    "plt.pie(values,labels=labels)\n",
    "print"
   ]
  }
 ],
 "metadata": {
  "kernelspec": {
   "display_name": "Python 2",
   "language": "python",
   "name": "python2"
  },
  "language_info": {
   "codemirror_mode": {
    "name": "ipython",
    "version": 2
   },
   "file_extension": ".py",
   "mimetype": "text/x-python",
   "name": "python",
   "nbconvert_exporter": "python",
   "pygments_lexer": "ipython2",
   "version": "2.7.11+"
  }
 },
 "nbformat": 4,
 "nbformat_minor": 0
}
