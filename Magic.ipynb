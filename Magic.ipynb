{
 "metadata": {
  "name": "",
  "signature": "sha256:2fc6d9b65191c4804fa5bf5843229b547328006ea738fcaecdd721d30c5a0e6f"
 },
 "nbformat": 3,
 "nbformat_minor": 0,
 "worksheets": [
  {
   "cells": [
    {
     "cell_type": "markdown",
     "metadata": {},
     "source": [
      "# Cell magics\n",
      "\n",
      "Many <em>Cell Magics</em> are available in ipython notebooks, not just switching between Python2 and Python3.\n",
      "\n",
      "If you've used ipython at the command line you've seen magic functions that \n",
      "- save a set of lines to a python script (%save)\n",
      "- make macros within your session (%alias)\n",
      "- run an interactive debugger (%debug)"
     ]
    },
    {
     "cell_type": "markdown",
     "metadata": {},
     "source": [
      "Ipython cell magics can be used at the start of any cell. They start with <code>%%</code> and can be used to \n",
      "- change languages in the interpreter\n",
      "-- python2, python3, perl, bash, javascript, ruby\n",
      "- select presentation languages for a cell\n",
      "-- markdown, HTML, LaTEX, SVG\n",
      "- wrap scripts in a utilty function\n",
      "-- debug, timeit, capture, writefile\n",
      "\n",
      "See http://ipython.readthedocs.io/en/stable/interactive/magics.html?#cell-magics for the documentation on these.\n"
     ]
    },
    {
     "cell_type": "code",
     "collapsed": false,
     "input": [
      "#%%debug\n",
      "\n",
      "for n in \"Fred Flintstone\":\n",
      "    if n != ' ': print('_',end='')\n",
      "    print(n.upper(),end='')"
     ],
     "language": "python",
     "metadata": {},
     "outputs": []
    },
    {
     "cell_type": "code",
     "collapsed": false,
     "input": [
      "for n in \"Fred Flintstone\":\n",
      "    #if n != ' ': print('_',end='')\n",
      "    print(n.upper(),end='')"
     ],
     "language": "python",
     "metadata": {},
     "outputs": []
    }
   ],
   "metadata": {}
  }
 ]
}