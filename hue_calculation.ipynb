{
 "metadata": {
  "kernelspec": {
   "display_name": "Python 2",
   "language": "python",
   "name": "python2"
  },
  "language_info": {
   "codemirror_mode": {
    "name": "ipython",
    "version": 2
   },
   "file_extension": ".py",
   "mimetype": "text/x-python",
   "name": "python",
   "nbconvert_exporter": "python",
   "pygments_lexer": "ipython2",
   "version": "2.7.11+"
  },
  "name": "",
  "signature": "sha256:ea5b06c764665c101329793c5c5b2e164086f974ccb1a70c37dd5cfd3508b9ba"
 },
 "nbformat": 3,
 "nbformat_minor": 0,
 "worksheets": [
  {
   "cells": [
    {
     "cell_type": "markdown",
     "metadata": {},
     "source": [
      "# Hue calculation\n",
      "\n",
      "Compute the hue on a color wheel and display its numeric value.\n",
      "\n",
      "I forget why I was doing this, but a notebook seemed like the place to explore the math.\n",
      "It also would have been a perfect place to include references for what the hell I was doing, but...."
     ]
    },
    {
     "cell_type": "code",
     "collapsed": false,
     "input": [
      "def hue(r,g,b):\n",
      "    t=[r,g,b]\n",
      "    M=t.index(max(t))\n",
      "    m=t.index(min(t))\n",
      "    C=t[M]-t[m]\n",
      "    return round((t[(M+1)%3]-t[(M+2)%3])/float(C) +120*(M if M else 3))"
     ],
     "language": "python",
     "metadata": {},
     "outputs": []
    },
    {
     "cell_type": "code",
     "collapsed": false,
     "input": [
      "hue(0,182,255)"
     ],
     "language": "python",
     "metadata": {},
     "outputs": []
    },
    {
     "cell_type": "code",
     "collapsed": false,
     "input": [
      "hue(127,247,103)"
     ],
     "language": "python",
     "metadata": {},
     "outputs": []
    },
    {
     "cell_type": "code",
     "collapsed": false,
     "input": [
      "hue(0,0,1)"
     ],
     "language": "python",
     "metadata": {},
     "outputs": []
    },
    {
     "cell_type": "markdown",
     "metadata": {},
     "source": [
      "Ok, that was easy. Let's add a bit of presentation now."
     ]
    },
    {
     "cell_type": "code",
     "collapsed": false,
     "input": [
      "from IPython.display import display, display_svg, SVG\n",
      "base_shape = 'width=\"200\" height=\"100\" stroke=\"#000000\" stroke_width=\"2\"'\n",
      "def box(r,g,b):\n",
      "    boxfill='#'+str(hex(r)[2:])+str(hex(g)[2:])+str(hex(b)[2:])\n",
      "    rect='<rect '+base_shape+' fill=\"'+boxfill+'\" />'\n",
      "    color = \"black\" if (sum((r,g,b)) > 450 and min(r,g,b) > 50) else \"white\"\n",
      "    # print(rect)\n",
      "    text='<text x=\"50\" y=\"60\" font-family=\"sans-serif\" font-size=\"40\" fill=\"'+color+'\">'+str(hue(r,g,b))+'</text>'\n",
      "    # print(text)\n",
      "    return '<svg><g>'+rect+text+'</g></svg>'"
     ],
     "language": "python",
     "metadata": {},
     "outputs": [],
     "prompt_number": 3
    },
    {
     "cell_type": "code",
     "collapsed": false,
     "input": [
      "display_svg(box(127,190,103),raw=True)"
     ],
     "language": "python",
     "metadata": {},
     "outputs": [
      {
       "metadata": {},
       "output_type": "display_data",
       "svg": [
        "<svg><g><rect width=\"200\" height=\"100\" stroke=\"#000000\" stroke_width=\"2\" fill=\"#7fbe67\" /><text x=\"50\" y=\"60\" font-family=\"sans-serif\" font-size=\"40\" fill=\"white\">153.1</text></g></svg>"
       ]
      }
     ],
     "prompt_number": 4
    },
    {
     "cell_type": "code",
     "collapsed": false,
     "input": [],
     "language": "python",
     "metadata": {},
     "outputs": []
    },
    {
     "cell_type": "markdown",
     "metadata": {},
     "source": [
      "Hey, that ain't right! Because wikipedia says my math is wrong!"
     ]
    },
    {
     "cell_type": "code",
     "collapsed": false,
     "input": [
      "SVG(filename='HueScale.svg')"
     ],
     "language": "python",
     "metadata": {},
     "outputs": []
    },
    {
     "cell_type": "markdown",
     "metadata": {},
     "source": [
      "We're getting very imprecise vectors...."
     ]
    },
    {
     "cell_type": "code",
     "collapsed": false,
     "input": [
      "def hue(r,g,b):\n",
      "    t=[r,g,b]\n",
      "    [Z,Y,X] = sorted(t)\n",
      "    v=120\n",
      "    z=t.index(max(t))*v\n",
      "    x=t.index(min(t))*v\n",
      "    y=list(set([0,1,2])-set([x,z]))[0]*v\n",
      "    return round((x-y)*((X-Y)/float(Z-X)+1)/2.+z, 1)\n",
      "\n",
      "display_svg(box(127,190,103),raw=True)"
     ],
     "language": "python",
     "metadata": {},
     "outputs": [
      {
       "metadata": {},
       "output_type": "display_data",
       "svg": [
        "<svg><g><rect width=\"200\" height=\"100\" stroke=\"#000000\" stroke_width=\"2\" fill=\"#7fbe67\" /><text x=\"50\" y=\"60\" font-family=\"sans-serif\" font-size=\"40\" fill=\"white\">153.1</text></g></svg>"
       ]
      }
     ],
     "prompt_number": 5
    },
    {
     "cell_type": "markdown",
     "metadata": {},
     "source": [
      "So now we're not just getting values to the neaarest 120, but the actual hue. Let's make this interactive now."
     ]
    },
    {
     "cell_type": "code",
     "collapsed": false,
     "input": [
      "from IPython.html.widgets import interact, interactive, IntSliderWidget\n",
      "\n",
      "def f(r,g,b): \n",
      "    display_svg(box(r,g,b), raw=True)\n",
      "\n",
      "interact(f, \n",
      "         r = IntSliderWidget(min=1,max=255,step=1,value=120),\n",
      "         g = IntSliderWidget(min=1,max=255,step=1,value=150),\n",
      "         b = IntSliderWidget(min=1,max=255,step=1,value=180)\n",
      "         )\n"
     ],
     "language": "python",
     "metadata": {},
     "outputs": [
      {
       "metadata": {},
       "output_type": "display_data",
       "svg": [
        "<svg><g><rect width=\"200\" height=\"100\" stroke=\"#000000\" stroke_width=\"2\" fill=\"#7830e8\" /><text x=\"50\" y=\"60\" font-family=\"sans-serif\" font-size=\"40\" fill=\"white\">263.5</text></g></svg>"
       ]
      }
     ],
     "prompt_number": 6
    },
    {
     "cell_type": "code",
     "collapsed": false,
     "input": [],
     "language": "python",
     "metadata": {},
     "outputs": []
    }
   ],
   "metadata": {}
  }
 ]
}